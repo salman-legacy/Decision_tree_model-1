{
  "nbformat": 4,
  "nbformat_minor": 0,
  "metadata": {
    "colab": {
      "name": "Decision_tree_model-1.ipynb",
      "provenance": [],
      "collapsed_sections": []
    },
    "kernelspec": {
      "name": "python3",
      "display_name": "Python 3"
    }
  },
  "cells": [
    {
      "cell_type": "markdown",
      "metadata": {
        "id": "rGEY1fdGzY4a"
      },
      "source": [
        "##Predicting **Male or Female** using dataset of 11 people"
      ]
    },
    {
      "cell_type": "code",
      "metadata": {
        "id": "fdTb7sdYuH2j"
      },
      "source": [
        "from sklearn import tree"
      ],
      "execution_count": 1,
      "outputs": []
    },
    {
      "cell_type": "code",
      "metadata": {
        "id": "SemUqFWHuqvR"
      },
      "source": [
        "#[height, weight, shoe size]\r\n",
        "X=[[181,80,44], [177,70, 43], [160, 60, 38], [154,54,37], [166, 65, 40], [190,90,47], [175,64,39], [177,70,40], [159,55,38],[171,75,42], [181,85,43]]\r\n",
        "Y=['male','female','female','female','male','male','male','female','male','female','male']"
      ],
      "execution_count": 3,
      "outputs": []
    },
    {
      "cell_type": "code",
      "metadata": {
        "id": "24VABHQcwvXC"
      },
      "source": [
        "clf=tree.DecisionTreeClassifier()"
      ],
      "execution_count": 4,
      "outputs": []
    },
    {
      "cell_type": "code",
      "metadata": {
        "id": "WSNZYffHxKVZ"
      },
      "source": [
        "clf=clf.fit(X,Y)"
      ],
      "execution_count": 5,
      "outputs": []
    },
    {
      "cell_type": "code",
      "metadata": {
        "id": "OPm3rdMrxb-Q"
      },
      "source": [
        "prediction = clf.predict([[190,70,43]])"
      ],
      "execution_count": 10,
      "outputs": []
    },
    {
      "cell_type": "code",
      "metadata": {
        "colab": {
          "base_uri": "https://localhost:8080/"
        },
        "id": "NzCea2Unxs77",
        "outputId": "2454fd80-714c-4588-895c-9e73c970143b"
      },
      "source": [
        "print(prediction)"
      ],
      "execution_count": 11,
      "outputs": [
        {
          "output_type": "stream",
          "text": [
            "['male']\n"
          ],
          "name": "stdout"
        }
      ]
    }
  ]
}